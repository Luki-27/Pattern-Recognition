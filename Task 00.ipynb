{
 "cells": [
  {
   "cell_type": "code",
   "execution_count": 5,
   "id": "b20decbd",
   "metadata": {},
   "outputs": [
    {
     "name": "stdout",
     "output_type": "stream",
     "text": [
      "The mean of data set: 59.25\n",
      "The median of data set: 19.0\n",
      "The variance of data set: 4992.520833333333\n",
      "The standard deviation of data set: 70.65777263212684\n"
     ]
    }
   ],
   "source": [
    "#Given the list data= [15,18,13,20,20,11,14,99,100,200,201,0], use Numpy to calculate the mean, median, variance,\n",
    "#standard deviation\n",
    "\n",
    "\n",
    "import numpy as np\n",
    "list_data= np.array([15,18,13,20,20,11,14,99,100,200,201,0])\n",
    "print(\"The mean of data set: {}\".format(list_data.mean()))\n",
    "print(\"The median of data set: {}\".format(np.median(list_data)))\n",
    "print(\"The variance of data set: {}\".format(np.var(list_data)))\n",
    "print(\"The standard deviation of data set: {}\".format(np.std(list_data)))\n"
   ]
  },
  {
   "cell_type": "code",
   "execution_count": 4,
   "id": "89e41f3b",
   "metadata": {},
   "outputs": [
    {
     "data": {
      "image/png": "[encoded data removed]",
      "text/plain": [
       "<Figure size 432x288 with 1 Axes>"
      ]
     },
     "metadata": {
      "needs_background": "light"
     },
     "output_type": "display_data"
    }
   ],
   "source": [
    "#Using Numpy and Matplotlib, plot a figure of Gaussian distribution of mean=6.0, standard deviation=1.0, with size=100000\n",
    "\n",
    "\n",
    "import numpy as np\n",
    "import matplotlib.pyplot as plt\n",
    "x = np.random.normal(6.0, 1.0, 100000)\n",
    "plt.hist(x, bins= 100)\n",
    "plt.show()"
   ]
  },
  {
   "cell_type": "code",
   "execution_count": null,
   "id": "f696d05f",
   "metadata": {},
   "outputs": [],
   "source": []
  }
 ],
 "metadata": {
  "kernelspec": {
   "display_name": "Python 3",
   "language": "python",
   "name": "python3"
  },
  "language_info": {
   "codemirror_mode": {
    "name": "ipython",
    "version": 3
   },
   "file_extension": ".py",
   "mimetype": "text/x-python",
   "name": "python",
   "nbconvert_exporter": "python",
   "pygments_lexer": "ipython3",
   "version": "3.8.8"
  }
 },
 "nbformat": 4,
 "nbformat_minor": 5
}
